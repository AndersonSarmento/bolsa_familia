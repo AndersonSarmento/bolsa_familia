{
 "cells": [
  {
   "cell_type": "code",
   "execution_count": 37,
   "metadata": {},
   "outputs": [],
   "source": [
    "import requests\n",
    "import json\n"
   ]
  },
  {
   "cell_type": "code",
   "execution_count": null,
   "metadata": {},
   "outputs": [],
   "source": [
    "# Caminho para o arquivo secret.json\n",
    "path = './caminho/para/o/arquivo/secret.json'\n",
    "\n",
    "# Abrir e ler o arquivo\n",
    "with open(path, 'r') as f:\n",
    "    secrets = json.load(f)\n",
    "\n",
    "# Agora você pode acessar a chave secreta como uma propriedade do objeto secrets\n",
    "secret_key = secrets['mySecretKey']"
   ]
  },
  {
   "cell_type": "code",
   "execution_count": 35,
   "metadata": {},
   "outputs": [],
   "source": [
    "def requisicao(url):\n",
    "   reponse=requests.get(url)\n",
    "   return reponse"
   ]
  },
  {
   "cell_type": "code",
   "execution_count": 36,
   "metadata": {},
   "outputs": [
    {
     "data": {
      "text/plain": [
       "<Response [200]>"
      ]
     },
     "execution_count": 36,
     "metadata": {},
     "output_type": "execute_result"
    }
   ],
   "source": [
    "requisicao(\" https://economia.awesomeapi.com.br/last/USD-BRL,EUR-BRL,BTC-BRL\")"
   ]
  }
 ],
 "metadata": {
  "kernelspec": {
   "display_name": "venv",
   "language": "python",
   "name": "python3"
  },
  "language_info": {
   "codemirror_mode": {
    "name": "ipython",
    "version": 3
   },
   "file_extension": ".py",
   "mimetype": "text/x-python",
   "name": "python",
   "nbconvert_exporter": "python",
   "pygments_lexer": "ipython3",
   "version": "3.10.12"
  }
 },
 "nbformat": 4,
 "nbformat_minor": 2
}
